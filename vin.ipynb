{
 "cells": [
  {
   "cell_type": "code",
   "execution_count": 204,
   "metadata": {},
   "outputs": [],
   "source": [
    "import pandas as pd\n",
    "import numpy as np\n",
    "import matplotlib.pyplot as plt\n",
    "\n",
    "# import matplotlib#.pyplot as plt\n",
    "import datetime\n",
    "from flask import Flask, session\n",
    "from flask_sqlalchemy import SQLAlchemy\n",
    "from flask_cors import CORS \n",
    "import os\n",
    "from telegram.ext import Updater, CallbackContext, CommandHandler, MessageHandler, Filters,  InlineQueryHandler\n",
    "from telegram import Update, InlineQueryResultArticle, InputTextMessageContent, KeyboardButton, ReplyKeyboardMarkup\n"
   ]
  },
  {
   "cell_type": "code",
   "execution_count": 242,
   "metadata": {},
   "outputs": [
    {
     "name": "stdout",
     "output_type": "stream",
     "text": [
      "from 2022-06-02 to 2022-06-08\n"
     ]
    },
    {
     "data": {
      "text/plain": [
       "<bound method DataFrame.info of 1   problem_date                             part_name status  \\\n",
       "0            NaT                                   NaN    NaN   \n",
       "2     2021-07-16                            WHEEL ASSY      Q   \n",
       "3     2021-07-30                            WHEEL ASSY      Q   \n",
       "4     2021-09-22              SCREW W/ WASHER\\nTAPPING      S   \n",
       "5     2021-09-22              SCREW W/ WASHER\\nTAPPING      S   \n",
       "..           ...                                   ...    ...   \n",
       "154   2022-06-07                        MAT ASSY FLOOR      S   \n",
       "155   2022-06-07                        MAT ASSY FLOOR      S   \n",
       "156   2022-06-08                        CENTER CONSOLE      Q   \n",
       "157   2022-06-13                        GLOVE BOX LOCK      M   \n",
       "158   2022-06-02  CONNECTOR, 50A R/B FUSE TO IGI RELAY      Q   \n",
       "\n",
       "1                      erb_no  \\\n",
       "0                         NaN   \n",
       "2     RBG2107001-\\nRBG2107006   \n",
       "3    RBG2107007- \\nRBG2107022   \n",
       "4                  RBG2109001   \n",
       "5                  RBG2109002   \n",
       "..                        ...   \n",
       "154                RBG2206001   \n",
       "155                RBG2206002   \n",
       "156                RBG2206003   \n",
       "157                RBG2206004   \n",
       "158                RBG2206005   \n",
       "\n",
       "1                                               lot_no     reoccurence  \\\n",
       "0                                                  NaN             NaN   \n",
       "2                                               AV0001              23   \n",
       "3    AV0003,AN0002,AS0002,AT0002,AM0002,AV0002,AL00...  Refer: \\nNo. 1   \n",
       "4                                               AR0001              37   \n",
       "5                                               AM0001              63   \n",
       "..                                                 ...             ...   \n",
       "154                                             BH0029    Refer to 152   \n",
       "155                                             BF0019    Refer to 152   \n",
       "156                                             BH0029               1   \n",
       "157                                             AZ0019               1   \n",
       "158                                             BG0032               1   \n",
       "\n",
       "1         erb_issue_date  root_cause delivery_schedule_plan         part_no  \\\n",
       "0                    NaN         NaN                    NaN             NaN   \n",
       "2    2021-07-28 00:00:00       OTHER                      -     42600-F0W60   \n",
       "3    2021-07-28 00:00:00       OTHER                      -     42600-F0W60   \n",
       "4    2021-09-29 00:00:00     CPL/DPI    2021-10-05 00:00:00     90159-T0037   \n",
       "5    2021-09-29 00:00:00     CPL/DPI    2021-10-05 00:00:00     90159-T0014   \n",
       "..                   ...         ...                    ...             ...   \n",
       "154  2022-06-07 00:00:00  ASSY- TSAM    2022-06-28 00:00:00  58510-757W1-C0   \n",
       "155  2022-06-07 00:00:00  ASSY- TSAM    2022-06-28 00:00:00  58510-757W1-C0   \n",
       "156  2022-06-08 00:00:00  ASSY- TSAM    2022-06-29 00:00:00    xxxxxx-xxxxx   \n",
       "157  2022-06-14 00:00:00  ASSY- TSAM    2022-07-05 00:00:00    xxxxxx-xxxxx   \n",
       "158  2022-06-14 00:00:00  ASSY- TSAM                      -    xxxxxx-xxxxx   \n",
       "\n",
       "1    qty  \n",
       "0    NaN  \n",
       "2      6  \n",
       "3     15  \n",
       "4     30  \n",
       "5     30  \n",
       "..   ...  \n",
       "154    1  \n",
       "155    1  \n",
       "156    1  \n",
       "157    1  \n",
       "158    1  \n",
       "\n",
       "[158 rows x 11 columns]>"
      ]
     },
     "execution_count": 242,
     "metadata": {},
     "output_type": "execute_result"
    }
   ],
   "source": [
    "\n",
    "matplotlib.use('Agg')\n",
    "plt.ioff()\n",
    "control_sheet = pd.read_excel(r\"C:\\Users\\LogisticsUser02\\Desktop\\control_sheet.xlsx\",usecols=[2,3,4,6,8,9,10,11,13,16,17],na_values='á');\n",
    "control_sheet.columns = control_sheet.iloc[1].str.replace('\\n',' ',regex=False)\n",
    "control_sheet.dropna(inplace=True,how='all')\n",
    "control_sheet.drop(index=1,inplace=True)\n",
    "control_sheet[['PART NAME','REOCCURENCE']]\n",
    "control_sheet[['PART NO','QTY']] = control_sheet['PART NO. (Q\\'TY)'].str.split('\\n', expand=True)[[0,1]]\n",
    "control_sheet.drop(columns='PART NO. (Q\\'TY)', inplace=True)\n",
    "control_sheet[['PART NO', 'QTY']]\n",
    "control_sheet.columns = (control_sheet.columns\n",
    "        .str.replace(' ','_', regex=False)\n",
    "        .str.replace('BACKUP(B)/_SHORT(S)/_MISSING(M)/_WRONG(W)/_QUALITY(Q)','status',regex=False)\n",
    "        .str.replace('ER/SMQR','erb',regex=False)\n",
    "        .str.replace('CPO/SPO_/RWO','order_no',regex=False)\n",
    "        .str.replace('COPED/ER(C)?_YES(Y)/_NO(N)','coped',regex=False)\n",
    "        .str.replace('(','',regex=False)\n",
    "        .str.replace(')','', regex=False)\n",
    "        .str.lower()\n",
    "        )\n",
    "control_sheet.fillna(method='ffill', inplace=True)\n",
    "control_sheet['qty'] = control_sheet['qty'].str.replace(r\"\\(*\\)\",\"\",regex=True)\n",
    "control_sheet['qty'] = control_sheet['qty'].str.replace(r\"(\",\"\",regex=True)\n",
    "control_sheet.drop(columns=np.nan, inplace=True)\n",
    "control_sheet[control_sheet['status']=='Q']['erb_no'].count()\t\n",
    "temp = ['220602.220608']\n",
    "with open(\"report.jpg\", 'wb') as p:\n",
    "    for date_range in temp:\n",
    "        [start,end] = date_range.split('.')\n",
    "        start = datetime.datetime.strptime(start,'%y%m%d').strftime('%Y-%m-%d')\n",
    "        end = datetime.datetime.strptime(end,'%y%m%d').strftime('%Y-%m-%d')\n",
    "        print(\"from\",start, \"to\", end)\n",
    "        status_report = (control_sheet[\n",
    "        (control_sheet['problem_date']>=start) & (control_sheet['problem_date']<=end)]\n",
    "        .groupby('status')[['erb_no']]\n",
    "        # .count()\n",
    "        # .plot(kind='bar', title='ERB Status Report',xlabel='Status', ylabel='Fequency',figsize=(10,3), legend=False)\n",
    "        )\n",
    "        # plt.bar(status_report, status_report.count())\n",
    "test = control_sheet[control_sheet['qty']!=np.NaN]\n",
    "# test['qty'] =test['qty'].str.replace('X', '0')\n",
    "# test = test.astype({'qty': 'float'}).dtypes\n",
    "test.info\n",
    "# plt.bar(test['part_name'], test['qty'])\n",
    "        # plt.savefig('report.jpg')\n",
    "        # plt.close('report.jpg')\n",
    "    # status_report.savefig(\"report.jpg\")\n",
    "# some = (control_sheet[\n",
    "#     (control_sheet['problem_date']>='2022-01-02') &(control_sheet['problem_date']<='2022-06-08')\n",
    "#     ].groupby('status')[['erb_no']].count().plot(kind='bar', title='ERB Status Report',xlabel='Status', ylabel='Fequency', legend=False)\n",
    "#     )\n",
    "\n",
    "# plt.show()\n",
    "# type(some)\n",
    "# some.savefig(\"report.jpg\")\n",
    "# os.remove(\"report.jpg\")\n",
    "# control_sheet"
   ]
  },
  {
   "cell_type": "code",
   "execution_count": 202,
   "metadata": {},
   "outputs": [
    {
     "data": {
      "text/plain": [
       "2"
      ]
     },
     "execution_count": 202,
     "metadata": {},
     "output_type": "execute_result"
    }
   ],
   "source": [
    "x=(2)\n",
    "x\n"
   ]
  }
 ],
 "metadata": {
  "interpreter": {
   "hash": "b988a16fc506c83f2d5a5cbf84b1fc8bd92c667d8bc5bd89c4ebcff1d0f94089"
  },
  "kernelspec": {
   "display_name": "Python 3.9.2 ('venv': venv)",
   "language": "python",
   "name": "python3"
  },
  "language_info": {
   "codemirror_mode": {
    "name": "ipython",
    "version": 3
   },
   "file_extension": ".py",
   "mimetype": "text/x-python",
   "name": "python",
   "nbconvert_exporter": "python",
   "pygments_lexer": "ipython3",
   "version": "3.9.2"
  },
  "orig_nbformat": 4
 },
 "nbformat": 4,
 "nbformat_minor": 2
}
