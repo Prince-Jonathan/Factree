{
 "cells": [
  {
   "cell_type": "code",
   "execution_count": 106,
   "metadata": {},
   "outputs": [],
   "source": [
    "import pandas as pd\n",
    "import numpy as np\n",
    "import matplotlib.pyplot as plt\n",
    "\n",
    "# import matplotlib#.pyplot as plt\n",
    "import datetime\n",
    "from flask import Flask, session\n",
    "from flask_sqlalchemy import SQLAlchemy\n",
    "from flask_cors import CORS \n",
    "import os\n",
    "from telegram.ext import Updater, CallbackContext, CommandHandler, MessageHandler, Filters,  InlineQueryHandler\n",
    "from telegram import Update, InlineQueryResultArticle, InputTextMessageContent, KeyboardButton, ReplyKeyboardMarkup\n"
   ]
  },
  {
   "cell_type": "code",
   "execution_count": 127,
   "metadata": {},
   "outputs": [
    {
     "name": "stderr",
     "output_type": "stream",
     "text": [
      "c:\\Users\\LogisticsUser02\\Documents\\Factree\\venv\\lib\\site-packages\\openpyxl\\worksheet\\_reader.py:312: UserWarning: Conditional Formatting extension is not supported and will be removed\n",
      "  warn(msg)\n"
     ]
    },
    {
     "name": "stdout",
     "output_type": "stream",
     "text": [
      "from 2022-06-02 to 2022-06-08\n"
     ]
    },
    {
     "data": {
      "image/png": "[encoded data removed]",
      "text/plain": [
       "<Figure size 432x288 with 1 Axes>"
      ]
     },
     "metadata": {
      "needs_background": "light"
     },
     "output_type": "display_data"
    }
   ],
   "source": [
    "control_sheet = pd.read_excel(r\"C:\\Users\\LogisticsUser02\\Desktop\\control_sheet.xlsx\",usecols=[2,3,4,6,8,9,10,11,13,16,17],na_values='á');\n",
    "control_sheet.columns = control_sheet.iloc[1].str.replace('\\n',' ',regex=False)\n",
    "control_sheet.dropna(inplace=True,how='all')\n",
    "control_sheet.drop(index=1,inplace=True)\n",
    "control_sheet[['PART NAME','REOCCURENCE']]\n",
    "control_sheet[['PART NO','QTY']] = control_sheet['PART NO. (Q\\'TY)'].str.split('\\n', expand=True)[[0,1]]\n",
    "control_sheet.drop(columns='PART NO. (Q\\'TY)', inplace=True)\n",
    "control_sheet[['PART NO', 'QTY']]\n",
    "control_sheet.columns = (control_sheet.columns\n",
    "        .str.replace(' ','_', regex=False)\n",
    "        .str.replace('BACKUP(B)/_SHORT(S)/_MISSING(M)/_WRONG(W)/_QUALITY(Q)','status',regex=False)\n",
    "        .str.replace('ER/SMQR','erb',regex=False)\n",
    "        .str.replace('CPO/SPO_/RWO','order_no',regex=False)\n",
    "        .str.replace('COPED/ER(C)?_YES(Y)/_NO(N)','coped',regex=False)\n",
    "        .str.replace('(','',regex=False)\n",
    "        .str.replace(')','', regex=False)\n",
    "        .str.lower()\n",
    "        )\n",
    "control_sheet.fillna(method='ffill', inplace=True)\n",
    "control_sheet['qty'] = control_sheet['qty'].str.replace(r\"\\(*\\)\",\"\",regex=True)\n",
    "control_sheet['qty'] = control_sheet['qty'].str.replace(r\"(\",\"\",regex=True)\n",
    "control_sheet.drop(columns=np.nan, inplace=True)\n",
    "control_sheet[control_sheet['status']=='Q']['erb_no'].count()\t\n",
    "temp = ['220602.220608']\n",
    "for date_range in temp:\n",
    "    [start,end] = date_range.split('.')\n",
    "    start = datetime.datetime.strptime(start,'%y%m%d').strftime('%Y-%m-%d')\n",
    "    end = datetime.datetime.strptime(end,'%y%m%d').strftime('%Y-%m-%d')\n",
    "    print(\"from\",start, \"to\", end)\n",
    "    status_report = (control_sheet[\n",
    "    (control_sheet['problem_date']>=start) & (control_sheet['problem_date']<=end)]\n",
    "    .groupby('status')[['erb_no']]\n",
    "    .count()\n",
    "    .plot(kind='bar', title='ERB Status Report',xlabel='Status', ylabel='Fequency', legend=False).get_figure()\n",
    "    )\n",
    "    plt.savefig(\"report.jpg\")\n",
    "\n",
    "# some = (control_sheet[\n",
    "#     (control_sheet['problem_date']>='2022-01-02') &(control_sheet['problem_date']<='2022-06-08')\n",
    "#     ].groupby('status')[['erb_no']].count().plot(kind='bar', title='ERB Status Report',xlabel='Status', ylabel='Fequency', legend=False)\n",
    "#     )\n",
    "\n",
    "# plt.show()\n",
    "# type(some)\n",
    "# some.savefig(\"report.jpg\")\n",
    "# os.remove(\"report.jpg\")\n",
    "# control_sheet"
   ]
  },
  {
   "cell_type": "code",
   "execution_count": 109,
   "metadata": {},
   "outputs": [
    {
     "data": {
      "text/plain": [
       "2"
      ]
     },
     "execution_count": 109,
     "metadata": {},
     "output_type": "execute_result"
    }
   ],
   "source": [
    "x=(2)\n",
    "x\n"
   ]
  }
 ],
 "metadata": {
  "interpreter": {
   "hash": "b988a16fc506c83f2d5a5cbf84b1fc8bd92c667d8bc5bd89c4ebcff1d0f94089"
  },
  "kernelspec": {
   "display_name": "Python 3.9.2 ('venv': venv)",
   "language": "python",
   "name": "python3"
  },
  "language_info": {
   "codemirror_mode": {
    "name": "ipython",
    "version": 3
   },
   "file_extension": ".py",
   "mimetype": "text/x-python",
   "name": "python",
   "nbconvert_exporter": "python",
   "pygments_lexer": "ipython3",
   "version": "3.9.2"
  },
  "orig_nbformat": 4
 },
 "nbformat": 4,
 "nbformat_minor": 2
}
